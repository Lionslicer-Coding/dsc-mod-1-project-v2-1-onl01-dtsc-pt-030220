{
 "cells": [
  {
   "cell_type": "markdown",
   "metadata": {},
   "source": [
    "## Final Project Submission\n",
    "\n",
    "Please fill out:\n",
    "* Student name: John Dean\n",
    "* Student pace: Part time\n",
    "* Scheduled project review date/time: \n",
    "* Instructor name: Eli Thomas\n",
    "* Blog post URL:\n"
   ]
  },
  {
   "cell_type": "markdown",
   "metadata": {},
   "source": [
    "## Introduction\n",
    "\n",
    "Microsoft wants to enter the film industry, and is seeking data driven insight into what kinds of films are performing well recently. In this data analysis, we will seek to find the most meaningful business recommendations possible. To this end, we will begin by showing what typical movie budgets might look like and what those budgets tend to bring in terms of return on investment (ROI). We will then look for opportunities for entry by examining the impacts of seasonality, maturity rating, genres, and several combinations of these factors. By the completion of this analysis, our aim is to provide answers for the following core questions:\n",
    "\n",
    "* What effect does budget have on return on investment, as well as the success rate of films?\n",
    "* Does seasonality have an impact on the number or types of films that perform well?\n",
    "* Does maturity rating have a meaningful impact on the likelihood of success for a film?"
   ]
  },
  {
   "cell_type": "markdown",
   "metadata": {},
   "source": [
    "## Libraries\n",
    "\n",
    "We will go ahead an import the necessary libraries and get a preliminary understanding of our data. By the end of this preliminary analysis, we should have an idea of what a typical ROI is on films as well as the size of a normal budget. Our libraries will therefore be focused on computation and visualization."
   ]
  },
  {
   "cell_type": "code",
   "execution_count": 1,
   "metadata": {},
   "outputs": [],
   "source": [
    "import pandas as pd # library for data analysis\n",
    "import numpy as np # advanced computation library\n",
    "import matplotlib.pyplot as plt # library for plotting data\n",
    "%matplotlib inline\n",
    "import seaborn as sns # plotting library we will use for histograms\n",
    "import os # allows us to interface with computer\n",
    "import sqlite3 # light weight sql library to handle our large data sets\n",
    "from glob import glob # file path generation tool\n"
   ]
  },
  {
   "cell_type": "markdown",
   "metadata": {},
   "source": [
    "## Data Import, Cleaning, and Prep"
   ]
  },
  {
   "cell_type": "code",
   "execution_count": null,
   "metadata": {},
   "outputs": [],
   "source": []
  }
 ],
 "metadata": {
  "kernelspec": {
   "display_name": "Python 3",
   "language": "python",
   "name": "python3"
  },
  "language_info": {
   "codemirror_mode": {
    "name": "ipython",
    "version": 3
   },
   "file_extension": ".py",
   "mimetype": "text/x-python",
   "name": "python",
   "nbconvert_exporter": "python",
   "pygments_lexer": "ipython3",
   "version": "3.6.9"
  }
 },
 "nbformat": 4,
 "nbformat_minor": 2
}
