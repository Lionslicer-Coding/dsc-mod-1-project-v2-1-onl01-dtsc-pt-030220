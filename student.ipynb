{
 "cells": [
  {
   "cell_type": "markdown",
   "metadata": {},
   "source": [
    "## Final Project Submission\n",
    "\n",
    "Please fill out:\n",
    "* Student name: John Dean\n",
    "* Student pace: Part time\n",
    "* Scheduled project review date/time: \n",
    "* Instructor name: Eli Thomas\n",
    "* Blog post URL:\n"
   ]
  },
  {
   "cell_type": "markdown",
   "metadata": {},
   "source": [
    "## Introduction\n",
    "\n",
    "Microsoft wants to enter the film industry, and is seeking data driven insight into what kinds of films are performing well recently. In this data analysis, we will seek to find the most meaningful business recommendations possible. To this end, we will begin by showing what typical movie budgets might look like and what those budgets tend to bring in terms of return on investment (ROI). We will then look for opportunities for entry by examining the impacts of seasonality, maturity rating, genres, and several combinations of these factors. By the completion of this analysis, our aim is to provide answers for the following core questions:\n",
    "\n",
    "* What effect does budget have on the success rate of films?\n",
    "* Does seasonality have an impact on the number or types of films that perform well?\n",
    "* Does maturity rating have a meaningful impact on the likelihood of success for a film?"
   ]
  },
  {
   "cell_type": "markdown",
   "metadata": {},
   "source": [
    "## Libraries\n",
    "\n",
    "We will go ahead an import the necessary libraries and get a preliminary understanding of our data. By the end of this preliminary analysis, we should have an idea of what a typical ROI is on films as well as the size of a normal budget. Our libraries will therefore be focused on computation and visualization."
   ]
  },
  {
   "cell_type": "code",
   "execution_count": 1,
   "metadata": {},
   "outputs": [],
   "source": [
    "import pandas as pd # library for data analysis\n",
    "import numpy as np # advanced computation library\n",
    "import matplotlib.pyplot as plt # library for plotting data\n",
    "%matplotlib inline\n",
    "import seaborn as sns # plotting library we will use for histograms\n",
    "import os # allows us to interface with computer\n",
    "import sqlite3 # light weight sql library to handle our large data sets\n",
    "from glob import glob # file path generation tool\n",
    "import math"
   ]
  },
  {
   "cell_type": "markdown",
   "metadata": {},
   "source": [
    "## Data Import, Cleaning, and Prep\n",
    "\n",
    "For importing and cleaning our data, we will be using a process based heavily on the one found here:\n",
    "\n",
    "https://github.com/Kaguilar1222/dsc-mod-1-project-v2-1-onl01-dtsc-ft-012120/blob/master/student.ipynb\n",
    "\n",
    "This process provides a scalable solution for creating a sql table for any number of csv files, rather than hard coding file names or sizes into our code. "
   ]
  },
  {
   "cell_type": "code",
   "execution_count": 2,
   "metadata": {},
   "outputs": [
    {
     "data": {
      "text/plain": [
       "list"
      ]
     },
     "execution_count": 2,
     "metadata": {},
     "output_type": "execute_result"
    }
   ],
   "source": [
    "#creating a list of the data we will be reading\n",
    "files = glob('./zippedData/*.csv.gz')\n",
    "type(files)"
   ]
  },
  {
   "cell_type": "code",
   "execution_count": 3,
   "metadata": {},
   "outputs": [],
   "source": [
    "#cleaning file name\n",
    "#creating dictionary of dataframes of each csv and tsv\n",
    "files_dict = {}\n",
    "for filename in files:\n",
    "    if 'csv' in str(os.path.basename(filename)):\n",
    "        filename_cleaned = os.path.basename(filename).replace(\".csv.gz\", \"\").replace(\".\", \"_\")\n",
    "        filename_df = pd.read_csv(filename, compression='gzip', index_col=0)\n",
    "        files_dict[filename_cleaned] = filename_df"
   ]
  },
  {
   "cell_type": "code",
   "execution_count": 4,
   "metadata": {},
   "outputs": [
    {
     "data": {
      "text/plain": [
       "dict_keys(['imdb_title_basics', 'imdb_title_ratings', 'tn_movie_budgets'])"
      ]
     },
     "execution_count": 4,
     "metadata": {},
     "output_type": "execute_result"
    }
   ],
   "source": [
    "#viewing file names from k:v pairs in our dictionary\n",
    "files_dict.keys()"
   ]
  },
  {
   "cell_type": "code",
   "execution_count": 5,
   "metadata": {},
   "outputs": [
    {
     "name": "stdout",
     "output_type": "stream",
     "text": [
      "<class 'pandas.core.frame.DataFrame'>\n",
      "Int64Index: 5782 entries, 1 to 82\n",
      "Data columns (total 5 columns):\n",
      "release_date         5782 non-null object\n",
      "movie                5782 non-null object\n",
      "production_budget    5782 non-null object\n",
      "domestic_gross       5782 non-null object\n",
      "worldwide_gross      5782 non-null object\n",
      "dtypes: object(5)\n",
      "memory usage: 271.0+ KB\n"
     ]
    }
   ],
   "source": [
    "#checking a key in the dictionary to ensure that dataframes have been created \n",
    "files_dict['tn_movie_budgets'].info()"
   ]
  },
  {
   "cell_type": "markdown",
   "metadata": {},
   "source": [
    "We have some columns in our data that are not in the format we would like them to be in. We will need to format them before passing them to our sql database for queries. "
   ]
  },
  {
   "cell_type": "code",
   "execution_count": 6,
   "metadata": {},
   "outputs": [],
   "source": [
    "#converting types of series that are not formatted as we would like\n",
    "files_dict['imdb_title_basics']['primary_title'] = files_dict['imdb_title_basics']['primary_title'].astype(str) \n",
    "files_dict['imdb_title_basics']['original_title'] = files_dict['imdb_title_basics']['original_title'].astype(str)\n",
    "files_dict['imdb_title_basics']['genres'] = files_dict['imdb_title_basics']['genres'].astype(str) \n"
   ]
  },
  {
   "cell_type": "code",
   "execution_count": 7,
   "metadata": {},
   "outputs": [
    {
     "data": {
      "text/plain": [
       "tconst\n",
       "tt0063540      [Action, Crime, Drama]\n",
       "tt0066787          [Biography, Drama]\n",
       "tt0069049                     [Drama]\n",
       "tt0069204             [Comedy, Drama]\n",
       "tt0100275    [Comedy, Drama, Fantasy]\n",
       "                       ...           \n",
       "tt9916538                     [Drama]\n",
       "tt9916622               [Documentary]\n",
       "tt9916706                    [Comedy]\n",
       "tt9916730                       [nan]\n",
       "tt9916754               [Documentary]\n",
       "Name: genres, Length: 146144, dtype: object"
      ]
     },
     "execution_count": 7,
     "metadata": {},
     "output_type": "execute_result"
    }
   ],
   "source": [
    "# converting the comma separated string of genres into lists\n",
    "files_dict['imdb_title_basics']['genres'] = files_dict['imdb_title_basics']['genres'].str.split(pat = ',')\n",
    "files_dict['imdb_title_basics']['genres']"
   ]
  },
  {
   "cell_type": "code",
   "execution_count": 8,
   "metadata": {},
   "outputs": [
    {
     "data": {
      "text/plain": [
       "id\n",
       "1    2009-12-18\n",
       "2    2011-05-20\n",
       "3    2019-06-07\n",
       "4    2015-05-01\n",
       "5    2017-12-15\n",
       "        ...    \n",
       "78   2018-12-31\n",
       "79   1999-04-02\n",
       "80   2005-07-13\n",
       "81   2015-09-29\n",
       "82   2005-08-05\n",
       "Name: release_date, Length: 5782, dtype: datetime64[ns]"
      ]
     },
     "execution_count": 8,
     "metadata": {},
     "output_type": "execute_result"
    }
   ],
   "source": [
    "# making sure the release dates are datetime dtype\n",
    "files_dict['tn_movie_budgets']['release_date'] = pd.to_datetime(files_dict['tn_movie_budgets']['release_date'])\n",
    "files_dict['tn_movie_budgets']['release_date']"
   ]
  },
  {
   "cell_type": "code",
   "execution_count": 9,
   "metadata": {},
   "outputs": [],
   "source": [
    "# scrubbing extra characters and converting to int\n",
    "files_dict['tn_movie_budgets']['production_budget'] = files_dict['tn_movie_budgets']['production_budget'].astype(str)\n",
    "files_dict['tn_movie_budgets']['production_budget'] = files_dict['tn_movie_budgets']['production_budget'].str.replace('$', '')\n",
    "files_dict['tn_movie_budgets']['production_budget'] = files_dict['tn_movie_budgets']['production_budget'].str.replace(',', '')\n",
    "files_dict['tn_movie_budgets']['production_budget'] = pd.to_numeric(files_dict['tn_movie_budgets']['production_budget'])\n",
    "files_dict['tn_movie_budgets']['domestic_gross'] = files_dict['tn_movie_budgets']['domestic_gross'].astype(str)\n",
    "files_dict['tn_movie_budgets']['domestic_gross'] = files_dict['tn_movie_budgets']['domestic_gross'].str.replace('$', '')\n",
    "files_dict['tn_movie_budgets']['domestic_gross'] = files_dict['tn_movie_budgets']['domestic_gross'].str.replace(',', '')\n",
    "files_dict['tn_movie_budgets']['domestic_gross'] = pd.to_numeric(files_dict['tn_movie_budgets']['domestic_gross'])\n",
    "files_dict['tn_movie_budgets']['worldwide_gross'] = files_dict['tn_movie_budgets']['worldwide_gross'].astype(str)\n",
    "files_dict['tn_movie_budgets']['worldwide_gross'] = files_dict['tn_movie_budgets']['worldwide_gross'].str.replace('$', '')\n",
    "files_dict['tn_movie_budgets']['worldwide_gross'] = files_dict['tn_movie_budgets']['worldwide_gross'].str.replace(',', '')\n",
    "files_dict['tn_movie_budgets']['worldwide_gross'] = pd.to_numeric(files_dict['tn_movie_budgets']['worldwide_gross'])"
   ]
  },
  {
   "cell_type": "code",
   "execution_count": 10,
   "metadata": {},
   "outputs": [],
   "source": [
    "#connecting to new database\n",
    "conn = sqlite3.connect(\"movies_db.sqlite\")"
   ]
  },
  {
   "cell_type": "code",
   "execution_count": 11,
   "metadata": {},
   "outputs": [],
   "source": [
    "#creating function to create a SQL table passing a dataframe, name, and \n",
    "#connection to database\n",
    "def create_sql_table_from_df(df, name, conn):\n",
    "    try:\n",
    "        df.to_sql(name, conn)\n",
    "        print(f\"Created table {name}\")\n",
    "    except Exception as e:\n",
    "        print(f\"could not make table {name}\")\n",
    "        print(e)"
   ]
  },
  {
   "cell_type": "code",
   "execution_count": 12,
   "metadata": {},
   "outputs": [
    {
     "name": "stdout",
     "output_type": "stream",
     "text": [
      "could not make table imdb_title_basics\n",
      "Table 'imdb_title_basics' already exists.\n",
      "could not make table imdb_title_ratings\n",
      "Table 'imdb_title_ratings' already exists.\n",
      "could not make table tn_movie_budgets\n",
      "Table 'tn_movie_budgets' already exists.\n"
     ]
    }
   ],
   "source": [
    "#passing the function through a for loop of the tables and names in our \n",
    "#dictionary of csv files\n",
    "for name, table in files_dict.items():\n",
    "    create_sql_table_from_df(table, name, conn)"
   ]
  },
  {
   "cell_type": "code",
   "execution_count": 13,
   "metadata": {},
   "outputs": [],
   "source": [
    "#creating a cursor to do a query of our sql db\n",
    "cur = conn.cursor()"
   ]
  },
  {
   "cell_type": "code",
   "execution_count": 14,
   "metadata": {},
   "outputs": [
    {
     "data": {
      "text/plain": [
       "[('imdb_title_basics',), ('imdb_title_ratings',), ('tn_movie_budgets',)]"
      ]
     },
     "execution_count": 14,
     "metadata": {},
     "output_type": "execute_result"
    }
   ],
   "source": [
    "#testing connection on our database of tables\n",
    "conn.execute(\"SELECT name FROM sqlite_master WHERE type='table';\").fetchall()"
   ]
  },
  {
   "cell_type": "markdown",
   "metadata": {},
   "source": [
    "## Initial Analysis and Minimum Budgets\n",
    "\n",
    "Before we can figure out how different factors impact our returns, we need to know what our returns generally will look like overall. For this, we will first find a distribution for budgets across the industry, then we will try to find patterns or trends on those budgets across genres and seasons of release. For the purposes of this analysis, we want to try and maximize our return on investment, so we will ultimately be seeking opportunities to do that."
   ]
  },
  {
   "cell_type": "code",
   "execution_count": 15,
   "metadata": {},
   "outputs": [
    {
     "data": {
      "text/plain": [
       "<seaborn.axisgrid.FacetGrid at 0x1bedfd639e8>"
      ]
     },
     "execution_count": 15,
     "metadata": {},
     "output_type": "execute_result"
    },
    {
     "data": {
      "image/png": "[encoded data removed]",
      "text/plain": [
       "<Figure size 360x360 with 1 Axes>"
      ]
     },
     "metadata": {
      "needs_background": "light"
     },
     "output_type": "display_data"
    }
   ],
   "source": [
    "sns.lmplot('production_budget', 'worldwide_gross',\n",
    "          data = files_dict['tn_movie_budgets'])"
   ]
  },
  {
   "cell_type": "markdown",
   "metadata": {},
   "source": [
    "Okay, not super useful. We can at least tell that as budgets increase, it seems that so does the gross revenue. Next we're going to try to find out if the rate of success for films increases as the film's production budget increases. In this case, we are going to define a \"success\" to be a film that makes any amount of positive profit. Films that break even or lose money will not be considered successes."
   ]
  },
  {
   "cell_type": "code",
   "execution_count": 16,
   "metadata": {},
   "outputs": [
    {
     "data": {
      "text/html": [
       "<div>\n",
       "<style scoped>\n",
       "    .dataframe tbody tr th:only-of-type {\n",
       "        vertical-align: middle;\n",
       "    }\n",
       "\n",
       "    .dataframe tbody tr th {\n",
       "        vertical-align: top;\n",
       "    }\n",
       "\n",
       "    .dataframe thead th {\n",
       "        text-align: right;\n",
       "    }\n",
       "</style>\n",
       "<table border=\"1\" class=\"dataframe\">\n",
       "  <thead>\n",
       "    <tr style=\"text-align: right;\">\n",
       "      <th></th>\n",
       "      <th>release_date</th>\n",
       "      <th>movie</th>\n",
       "      <th>production_budget</th>\n",
       "      <th>domestic_gross</th>\n",
       "      <th>worldwide_gross</th>\n",
       "      <th>profit</th>\n",
       "    </tr>\n",
       "    <tr>\n",
       "      <th>id</th>\n",
       "      <th></th>\n",
       "      <th></th>\n",
       "      <th></th>\n",
       "      <th></th>\n",
       "      <th></th>\n",
       "      <th></th>\n",
       "    </tr>\n",
       "  </thead>\n",
       "  <tbody>\n",
       "    <tr>\n",
       "      <td>1</td>\n",
       "      <td>2009-12-18</td>\n",
       "      <td>Avatar</td>\n",
       "      <td>425000000</td>\n",
       "      <td>760507625</td>\n",
       "      <td>2776345279</td>\n",
       "      <td>2351345279</td>\n",
       "    </tr>\n",
       "    <tr>\n",
       "      <td>2</td>\n",
       "      <td>2011-05-20</td>\n",
       "      <td>Pirates of the Caribbean: On Stranger Tides</td>\n",
       "      <td>410600000</td>\n",
       "      <td>241063875</td>\n",
       "      <td>1045663875</td>\n",
       "      <td>635063875</td>\n",
       "    </tr>\n",
       "    <tr>\n",
       "      <td>3</td>\n",
       "      <td>2019-06-07</td>\n",
       "      <td>Dark Phoenix</td>\n",
       "      <td>350000000</td>\n",
       "      <td>42762350</td>\n",
       "      <td>149762350</td>\n",
       "      <td>-200237650</td>\n",
       "    </tr>\n",
       "    <tr>\n",
       "      <td>4</td>\n",
       "      <td>2015-05-01</td>\n",
       "      <td>Avengers: Age of Ultron</td>\n",
       "      <td>330600000</td>\n",
       "      <td>459005868</td>\n",
       "      <td>1403013963</td>\n",
       "      <td>1072413963</td>\n",
       "    </tr>\n",
       "    <tr>\n",
       "      <td>5</td>\n",
       "      <td>2017-12-15</td>\n",
       "      <td>Star Wars Ep. VIII: The Last Jedi</td>\n",
       "      <td>317000000</td>\n",
       "      <td>620181382</td>\n",
       "      <td>1316721747</td>\n",
       "      <td>999721747</td>\n",
       "    </tr>\n",
       "  </tbody>\n",
       "</table>\n",
       "</div>"
      ],
      "text/plain": [
       "   release_date                                        movie  \\\n",
       "id                                                             \n",
       "1    2009-12-18                                       Avatar   \n",
       "2    2011-05-20  Pirates of the Caribbean: On Stranger Tides   \n",
       "3    2019-06-07                                 Dark Phoenix   \n",
       "4    2015-05-01                      Avengers: Age of Ultron   \n",
       "5    2017-12-15            Star Wars Ep. VIII: The Last Jedi   \n",
       "\n",
       "    production_budget  domestic_gross  worldwide_gross      profit  \n",
       "id                                                                  \n",
       "1           425000000       760507625       2776345279  2351345279  \n",
       "2           410600000       241063875       1045663875   635063875  \n",
       "3           350000000        42762350        149762350  -200237650  \n",
       "4           330600000       459005868       1403013963  1072413963  \n",
       "5           317000000       620181382       1316721747   999721747  "
      ]
     },
     "execution_count": 16,
     "metadata": {},
     "output_type": "execute_result"
    }
   ],
   "source": [
    "# Calculating profit of each movie and creating a column to store it\n",
    "files_dict['tn_movie_budgets']['profit'] = files_dict['tn_movie_budgets']['worldwide_gross'].subtract(files_dict['tn_movie_budgets']['production_budget'])\n",
    "files_dict['tn_movie_budgets'].head()"
   ]
  },
  {
   "cell_type": "code",
   "execution_count": 17,
   "metadata": {
    "scrolled": true
   },
   "outputs": [
    {
     "data": {
      "text/html": [
       "<div>\n",
       "<style scoped>\n",
       "    .dataframe tbody tr th:only-of-type {\n",
       "        vertical-align: middle;\n",
       "    }\n",
       "\n",
       "    .dataframe tbody tr th {\n",
       "        vertical-align: top;\n",
       "    }\n",
       "\n",
       "    .dataframe thead th {\n",
       "        text-align: right;\n",
       "    }\n",
       "</style>\n",
       "<table border=\"1\" class=\"dataframe\">\n",
       "  <thead>\n",
       "    <tr style=\"text-align: right;\">\n",
       "      <th></th>\n",
       "      <th>release_date</th>\n",
       "      <th>movie</th>\n",
       "      <th>production_budget</th>\n",
       "      <th>domestic_gross</th>\n",
       "      <th>worldwide_gross</th>\n",
       "      <th>profit</th>\n",
       "      <th>roi</th>\n",
       "    </tr>\n",
       "    <tr>\n",
       "      <th>id</th>\n",
       "      <th></th>\n",
       "      <th></th>\n",
       "      <th></th>\n",
       "      <th></th>\n",
       "      <th></th>\n",
       "      <th></th>\n",
       "      <th></th>\n",
       "    </tr>\n",
       "  </thead>\n",
       "  <tbody>\n",
       "    <tr>\n",
       "      <td>1</td>\n",
       "      <td>2009-12-18</td>\n",
       "      <td>Avatar</td>\n",
       "      <td>425000000</td>\n",
       "      <td>760507625</td>\n",
       "      <td>2776345279</td>\n",
       "      <td>2351345279</td>\n",
       "      <td>553.257713</td>\n",
       "    </tr>\n",
       "    <tr>\n",
       "      <td>2</td>\n",
       "      <td>2011-05-20</td>\n",
       "      <td>Pirates of the Caribbean: On Stranger Tides</td>\n",
       "      <td>410600000</td>\n",
       "      <td>241063875</td>\n",
       "      <td>1045663875</td>\n",
       "      <td>635063875</td>\n",
       "      <td>154.667286</td>\n",
       "    </tr>\n",
       "    <tr>\n",
       "      <td>3</td>\n",
       "      <td>2019-06-07</td>\n",
       "      <td>Dark Phoenix</td>\n",
       "      <td>350000000</td>\n",
       "      <td>42762350</td>\n",
       "      <td>149762350</td>\n",
       "      <td>-200237650</td>\n",
       "      <td>-57.210757</td>\n",
       "    </tr>\n",
       "    <tr>\n",
       "      <td>4</td>\n",
       "      <td>2015-05-01</td>\n",
       "      <td>Avengers: Age of Ultron</td>\n",
       "      <td>330600000</td>\n",
       "      <td>459005868</td>\n",
       "      <td>1403013963</td>\n",
       "      <td>1072413963</td>\n",
       "      <td>324.384139</td>\n",
       "    </tr>\n",
       "    <tr>\n",
       "      <td>5</td>\n",
       "      <td>2017-12-15</td>\n",
       "      <td>Star Wars Ep. VIII: The Last Jedi</td>\n",
       "      <td>317000000</td>\n",
       "      <td>620181382</td>\n",
       "      <td>1316721747</td>\n",
       "      <td>999721747</td>\n",
       "      <td>315.369636</td>\n",
       "    </tr>\n",
       "  </tbody>\n",
       "</table>\n",
       "</div>"
      ],
      "text/plain": [
       "   release_date                                        movie  \\\n",
       "id                                                             \n",
       "1    2009-12-18                                       Avatar   \n",
       "2    2011-05-20  Pirates of the Caribbean: On Stranger Tides   \n",
       "3    2019-06-07                                 Dark Phoenix   \n",
       "4    2015-05-01                      Avengers: Age of Ultron   \n",
       "5    2017-12-15            Star Wars Ep. VIII: The Last Jedi   \n",
       "\n",
       "    production_budget  domestic_gross  worldwide_gross      profit         roi  \n",
       "id                                                                              \n",
       "1           425000000       760507625       2776345279  2351345279  553.257713  \n",
       "2           410600000       241063875       1045663875   635063875  154.667286  \n",
       "3           350000000        42762350        149762350  -200237650  -57.210757  \n",
       "4           330600000       459005868       1403013963  1072413963  324.384139  \n",
       "5           317000000       620181382       1316721747   999721747  315.369636  "
      ]
     },
     "execution_count": 17,
     "metadata": {},
     "output_type": "execute_result"
    }
   ],
   "source": [
    "# Calculating return on investment and creating a column for that\n",
    "files_dict['tn_movie_budgets']['roi'] = (files_dict['tn_movie_budgets']['profit']/files_dict['tn_movie_budgets']['production_budget'])*100\n",
    "files_dict['tn_movie_budgets'].head()"
   ]
  },
  {
   "cell_type": "code",
   "execution_count": 18,
   "metadata": {
    "scrolled": true
   },
   "outputs": [
    {
     "data": {
      "text/html": [
       "<div>\n",
       "<style scoped>\n",
       "    .dataframe tbody tr th:only-of-type {\n",
       "        vertical-align: middle;\n",
       "    }\n",
       "\n",
       "    .dataframe tbody tr th {\n",
       "        vertical-align: top;\n",
       "    }\n",
       "\n",
       "    .dataframe thead th {\n",
       "        text-align: right;\n",
       "    }\n",
       "</style>\n",
       "<table border=\"1\" class=\"dataframe\">\n",
       "  <thead>\n",
       "    <tr style=\"text-align: right;\">\n",
       "      <th></th>\n",
       "      <th>release_date</th>\n",
       "      <th>movie</th>\n",
       "      <th>production_budget</th>\n",
       "      <th>domestic_gross</th>\n",
       "      <th>worldwide_gross</th>\n",
       "      <th>profit</th>\n",
       "      <th>roi</th>\n",
       "      <th>success</th>\n",
       "    </tr>\n",
       "    <tr>\n",
       "      <th>id</th>\n",
       "      <th></th>\n",
       "      <th></th>\n",
       "      <th></th>\n",
       "      <th></th>\n",
       "      <th></th>\n",
       "      <th></th>\n",
       "      <th></th>\n",
       "      <th></th>\n",
       "    </tr>\n",
       "  </thead>\n",
       "  <tbody>\n",
       "    <tr>\n",
       "      <td>1</td>\n",
       "      <td>2009-12-18</td>\n",
       "      <td>Avatar</td>\n",
       "      <td>425000000</td>\n",
       "      <td>760507625</td>\n",
       "      <td>2776345279</td>\n",
       "      <td>2351345279</td>\n",
       "      <td>553.257713</td>\n",
       "      <td>Yes</td>\n",
       "    </tr>\n",
       "    <tr>\n",
       "      <td>2</td>\n",
       "      <td>2011-05-20</td>\n",
       "      <td>Pirates of the Caribbean: On Stranger Tides</td>\n",
       "      <td>410600000</td>\n",
       "      <td>241063875</td>\n",
       "      <td>1045663875</td>\n",
       "      <td>635063875</td>\n",
       "      <td>154.667286</td>\n",
       "      <td>Yes</td>\n",
       "    </tr>\n",
       "    <tr>\n",
       "      <td>3</td>\n",
       "      <td>2019-06-07</td>\n",
       "      <td>Dark Phoenix</td>\n",
       "      <td>350000000</td>\n",
       "      <td>42762350</td>\n",
       "      <td>149762350</td>\n",
       "      <td>-200237650</td>\n",
       "      <td>-57.210757</td>\n",
       "      <td>No</td>\n",
       "    </tr>\n",
       "    <tr>\n",
       "      <td>4</td>\n",
       "      <td>2015-05-01</td>\n",
       "      <td>Avengers: Age of Ultron</td>\n",
       "      <td>330600000</td>\n",
       "      <td>459005868</td>\n",
       "      <td>1403013963</td>\n",
       "      <td>1072413963</td>\n",
       "      <td>324.384139</td>\n",
       "      <td>Yes</td>\n",
       "    </tr>\n",
       "    <tr>\n",
       "      <td>5</td>\n",
       "      <td>2017-12-15</td>\n",
       "      <td>Star Wars Ep. VIII: The Last Jedi</td>\n",
       "      <td>317000000</td>\n",
       "      <td>620181382</td>\n",
       "      <td>1316721747</td>\n",
       "      <td>999721747</td>\n",
       "      <td>315.369636</td>\n",
       "      <td>Yes</td>\n",
       "    </tr>\n",
       "  </tbody>\n",
       "</table>\n",
       "</div>"
      ],
      "text/plain": [
       "   release_date                                        movie  \\\n",
       "id                                                             \n",
       "1    2009-12-18                                       Avatar   \n",
       "2    2011-05-20  Pirates of the Caribbean: On Stranger Tides   \n",
       "3    2019-06-07                                 Dark Phoenix   \n",
       "4    2015-05-01                      Avengers: Age of Ultron   \n",
       "5    2017-12-15            Star Wars Ep. VIII: The Last Jedi   \n",
       "\n",
       "    production_budget  domestic_gross  worldwide_gross      profit  \\\n",
       "id                                                                   \n",
       "1           425000000       760507625       2776345279  2351345279   \n",
       "2           410600000       241063875       1045663875   635063875   \n",
       "3           350000000        42762350        149762350  -200237650   \n",
       "4           330600000       459005868       1403013963  1072413963   \n",
       "5           317000000       620181382       1316721747   999721747   \n",
       "\n",
       "           roi success  \n",
       "id                      \n",
       "1   553.257713     Yes  \n",
       "2   154.667286     Yes  \n",
       "3   -57.210757      No  \n",
       "4   324.384139     Yes  \n",
       "5   315.369636     Yes  "
      ]
     },
     "execution_count": 18,
     "metadata": {},
     "output_type": "execute_result"
    }
   ],
   "source": [
    "# Adding a column to show if a film made movie or not\n",
    "files_dict['tn_movie_budgets']['success'] = np.where(files_dict['tn_movie_budgets']['profit'] > 0, 'Yes', 'No')\n",
    "files_dict['tn_movie_budgets'].head()"
   ]
  },
  {
   "cell_type": "code",
   "execution_count": 75,
   "metadata": {},
   "outputs": [
    {
     "data": {
      "text/plain": [
       "[578, 1156, 1734, 2312, 2891, 3469, 4047, 4625, 5203, 5782]"
      ]
     },
     "execution_count": 75,
     "metadata": {},
     "output_type": "execute_result"
    }
   ],
   "source": [
    "test = [math.floor(len(files_dict['tn_movie_budgets']['production_budget'])/10 * i) for i in range(1,11)]\n",
    "test"
   ]
  },
  {
   "cell_type": "code",
   "execution_count": 78,
   "metadata": {},
   "outputs": [
    {
     "data": {
      "text/plain": [
       "425000000"
      ]
     },
     "execution_count": 78,
     "metadata": {},
     "output_type": "execute_result"
    }
   ],
   "source": [
    "files_dict['tn_movie_budgets']['production_budget'].iloc[0,]"
   ]
  },
  {
   "cell_type": "code",
   "execution_count": 77,
   "metadata": {},
   "outputs": [
    {
     "data": {
      "text/plain": [
       "[80000000,\n",
       " 50000000,\n",
       " 35000000,\n",
       " 25000000,\n",
       " 17000000,\n",
       " 11000000,\n",
       " 7000000,\n",
       " 3500000,\n",
       " 1100000,\n",
       " 1100]"
      ]
     },
     "execution_count": 77,
     "metadata": {},
     "output_type": "execute_result"
    }
   ],
   "source": [
    "catmin = [files_dict['tn_movie_budgets']['production_budget'].iloc[i-1,] for i in test]\n",
    "catmin"
   ]
  },
  {
   "cell_type": "code",
   "execution_count": 81,
   "metadata": {},
   "outputs": [],
   "source": [
    "files_dict['tn_movie_budgets']['budget_range'] = ['$80,000,000+' if files_dict['tn_movie_budgets']['production_budget'].iloc[i-1,] >= 80000000 \n",
    "                                                  else '$50,000,000+' if files_dict['tn_movie_budgets']['production_budget'].iloc[i-1,] >= 50000000\n",
    "                                                  else '$35,000,000+' if files_dict['tn_movie_budgets']['production_budget'].iloc[i-1,] >= 35000000\n",
    "                                                  else '$25,000,000+' if files_dict['tn_movie_budgets']['production_budget'].iloc[i-1,] >= 25000000\n",
    "                                                  else '$17,000,000+' if files_dict['tn_movie_budgets']['production_budget'].iloc[i-1,] >= 17000000\n",
    "                                                  else '$11,000,000+' if files_dict['tn_movie_budgets']['production_budget'].iloc[i-1,] >= 11000000\n",
    "                                                  else '$7,000,000+' if files_dict['tn_movie_budgets']['production_budget'].iloc[i-1,] >= 7000000\n",
    "                                                  else '$3,500,000+' if files_dict['tn_movie_budgets']['production_budget'].iloc[i-1,] >= 3500000\n",
    "                                                  else '$1,100,000+' if files_dict['tn_movie_budgets']['production_budget'].iloc[i-1,] >= 1100000\n",
    "                                                  else '$1,100+' \n",
    "                                                  for i in range(1, len(files_dict['tn_movie_budgets']['production_budget'])+1)]"
   ]
  },
  {
   "cell_type": "code",
   "execution_count": 82,
   "metadata": {},
   "outputs": [
    {
     "data": {
      "text/html": [
       "<div>\n",
       "<style scoped>\n",
       "    .dataframe tbody tr th:only-of-type {\n",
       "        vertical-align: middle;\n",
       "    }\n",
       "\n",
       "    .dataframe tbody tr th {\n",
       "        vertical-align: top;\n",
       "    }\n",
       "\n",
       "    .dataframe thead th {\n",
       "        text-align: right;\n",
       "    }\n",
       "</style>\n",
       "<table border=\"1\" class=\"dataframe\">\n",
       "  <thead>\n",
       "    <tr style=\"text-align: right;\">\n",
       "      <th></th>\n",
       "      <th>release_date</th>\n",
       "      <th>movie</th>\n",
       "      <th>production_budget</th>\n",
       "      <th>domestic_gross</th>\n",
       "      <th>worldwide_gross</th>\n",
       "      <th>profit</th>\n",
       "      <th>roi</th>\n",
       "      <th>success</th>\n",
       "      <th>movie_num</th>\n",
       "      <th>budget_range</th>\n",
       "    </tr>\n",
       "    <tr>\n",
       "      <th>id</th>\n",
       "      <th></th>\n",
       "      <th></th>\n",
       "      <th></th>\n",
       "      <th></th>\n",
       "      <th></th>\n",
       "      <th></th>\n",
       "      <th></th>\n",
       "      <th></th>\n",
       "      <th></th>\n",
       "      <th></th>\n",
       "    </tr>\n",
       "  </thead>\n",
       "  <tbody>\n",
       "    <tr>\n",
       "      <td>1</td>\n",
       "      <td>2009-12-18</td>\n",
       "      <td>Avatar</td>\n",
       "      <td>425000000</td>\n",
       "      <td>760507625</td>\n",
       "      <td>2776345279</td>\n",
       "      <td>2351345279</td>\n",
       "      <td>553.257713</td>\n",
       "      <td>Yes</td>\n",
       "      <td>0</td>\n",
       "      <td>$80,000,000+</td>\n",
       "    </tr>\n",
       "    <tr>\n",
       "      <td>2</td>\n",
       "      <td>2011-05-20</td>\n",
       "      <td>Pirates of the Caribbean: On Stranger Tides</td>\n",
       "      <td>410600000</td>\n",
       "      <td>241063875</td>\n",
       "      <td>1045663875</td>\n",
       "      <td>635063875</td>\n",
       "      <td>154.667286</td>\n",
       "      <td>Yes</td>\n",
       "      <td>1</td>\n",
       "      <td>$80,000,000+</td>\n",
       "    </tr>\n",
       "    <tr>\n",
       "      <td>3</td>\n",
       "      <td>2019-06-07</td>\n",
       "      <td>Dark Phoenix</td>\n",
       "      <td>350000000</td>\n",
       "      <td>42762350</td>\n",
       "      <td>149762350</td>\n",
       "      <td>-200237650</td>\n",
       "      <td>-57.210757</td>\n",
       "      <td>No</td>\n",
       "      <td>2</td>\n",
       "      <td>$80,000,000+</td>\n",
       "    </tr>\n",
       "    <tr>\n",
       "      <td>4</td>\n",
       "      <td>2015-05-01</td>\n",
       "      <td>Avengers: Age of Ultron</td>\n",
       "      <td>330600000</td>\n",
       "      <td>459005868</td>\n",
       "      <td>1403013963</td>\n",
       "      <td>1072413963</td>\n",
       "      <td>324.384139</td>\n",
       "      <td>Yes</td>\n",
       "      <td>3</td>\n",
       "      <td>$80,000,000+</td>\n",
       "    </tr>\n",
       "    <tr>\n",
       "      <td>5</td>\n",
       "      <td>2017-12-15</td>\n",
       "      <td>Star Wars Ep. VIII: The Last Jedi</td>\n",
       "      <td>317000000</td>\n",
       "      <td>620181382</td>\n",
       "      <td>1316721747</td>\n",
       "      <td>999721747</td>\n",
       "      <td>315.369636</td>\n",
       "      <td>Yes</td>\n",
       "      <td>4</td>\n",
       "      <td>$80,000,000+</td>\n",
       "    </tr>\n",
       "  </tbody>\n",
       "</table>\n",
       "</div>"
      ],
      "text/plain": [
       "   release_date                                        movie  \\\n",
       "id                                                             \n",
       "1    2009-12-18                                       Avatar   \n",
       "2    2011-05-20  Pirates of the Caribbean: On Stranger Tides   \n",
       "3    2019-06-07                                 Dark Phoenix   \n",
       "4    2015-05-01                      Avengers: Age of Ultron   \n",
       "5    2017-12-15            Star Wars Ep. VIII: The Last Jedi   \n",
       "\n",
       "    production_budget  domestic_gross  worldwide_gross      profit  \\\n",
       "id                                                                   \n",
       "1           425000000       760507625       2776345279  2351345279   \n",
       "2           410600000       241063875       1045663875   635063875   \n",
       "3           350000000        42762350        149762350  -200237650   \n",
       "4           330600000       459005868       1403013963  1072413963   \n",
       "5           317000000       620181382       1316721747   999721747   \n",
       "\n",
       "           roi success  movie_num  budget_range  \n",
       "id                                               \n",
       "1   553.257713     Yes          0  $80,000,000+  \n",
       "2   154.667286     Yes          1  $80,000,000+  \n",
       "3   -57.210757      No          2  $80,000,000+  \n",
       "4   324.384139     Yes          3  $80,000,000+  \n",
       "5   315.369636     Yes          4  $80,000,000+  "
      ]
     },
     "execution_count": 82,
     "metadata": {},
     "output_type": "execute_result"
    }
   ],
   "source": [
    "files_dict['tn_movie_budgets'].head()"
   ]
  },
  {
   "cell_type": "code",
   "execution_count": 94,
   "metadata": {
    "scrolled": false
   },
   "outputs": [
    {
     "data": {
      "image/png": "[encoded data removed]",
      "text/plain": [
       "<Figure size 1080x576 with 1 Axes>"
      ]
     },
     "metadata": {
      "needs_background": "light"
     },
     "output_type": "display_data"
    }
   ],
   "source": [
    "# Creating a visualization to see if budgets influence the likelihood of success for films\n",
    "plt.figure(figsize = (15, 8))\n",
    "ax = sns.countplot(x = files_dict['tn_movie_budgets']['budget_range'], \n",
    "                 hue = files_dict['tn_movie_budgets']['success'], \n",
    "                 data = files_dict['tn_movie_budgets']['success'])\n",
    "ax.set(xlabel = 'Production Budget', \n",
    "       ylabel = 'Number of Successes', \n",
    "       title = 'Likelihood of Success as Budget Increases')\n",
    "ax.invert_xaxis()\n",
    "plt.show(ax)"
   ]
  },
  {
   "cell_type": "markdown",
   "metadata": {},
   "source": [
    "As you can see from this chart, there is a very clear point at which movies with a certain production budget tend to be more likely to generate a profit. For this reason, we recommend expecting to spend at least this minimum amount in order to maximize our returns. Moving forward, we will further explore the data from films with only this minimum budget or greater, in order to find out if there are any specific genres or seasonal release times that will further maximize our potential to generate profits."
   ]
  },
  {
   "cell_type": "markdown",
   "metadata": {},
   "source": [
    "## Exploring Impact of Genre"
   ]
  },
  {
   "cell_type": "code",
   "execution_count": null,
   "metadata": {},
   "outputs": [],
   "source": []
  }
 ],
 "metadata": {
  "kernelspec": {
   "display_name": "Python 3",
   "language": "python",
   "name": "python3"
  },
  "language_info": {
   "codemirror_mode": {
    "name": "ipython",
    "version": 3
   },
   "file_extension": ".py",
   "mimetype": "text/x-python",
   "name": "python",
   "nbconvert_exporter": "python",
   "pygments_lexer": "ipython3",
   "version": "3.6.9"
  }
 },
 "nbformat": 4,
 "nbformat_minor": 2
}
